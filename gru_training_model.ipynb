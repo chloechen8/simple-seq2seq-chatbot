{
 "cells": [
  {
   "cell_type": "code",
   "execution_count": 1,
   "metadata": {},
   "outputs": [],
   "source": [
    "import tensorflow as tf\n",
    "import numpy as np\n",
    "from tensorflow.keras.models import Model\n",
    "from tensorflow.keras.layers import Input, Embedding, Dense, GRU, Masking\n",
    "from tensorflow.keras.preprocessing.text import tokenizer_from_json\n",
    "import json\n",
    "import time"
   ]
  },
  {
   "cell_type": "code",
   "execution_count": 2,
   "metadata": {},
   "outputs": [],
   "source": [
    "# import preprocessed data\n",
    "\n",
    "with open('./preprocessed_data/questions.json', 'r') as f:\n",
    "    json_data = json.load(f)\n",
    "    question_corpus = tokenizer_from_json(json_data)\n",
    "    f.close()\n",
    "\n",
    "with open('./preprocessed_data/answers.json', 'r') as f:\n",
    "    json_data = json.load(f)\n",
    "    answer_corpus = tokenizer_from_json(json_data)\n",
    "    f.close()\n",
    "\n",
    "npzfile = np.load('./preprocessed_data/data.npz') "
   ]
  },
  {
   "cell_type": "code",
   "execution_count": 3,
   "metadata": {},
   "outputs": [],
   "source": [
    "# define encoder\n",
    "\n",
    "def create_encoder(inputdim, embeddingsize, inputlen, n_units):\n",
    "\n",
    "    # encoder\n",
    "    encoder_input = Input((inputlen,))\n",
    "    encoder_embed = Embedding(inputdim+1, embeddingsize)(encoder_input)\n",
    "    # we use embedding layer to vectorize the word. the inputdim indicates the input dimension\n",
    "    # specifically, the inputdim is the length of vocabulary\n",
    "    # inputdim+1 at here is because our word label start from 1\n",
    "    encoder_mask = Masking()(encoder_embed)\n",
    "    # add mask layer because we should ignore the input of those padding 0\n",
    "    encoder = GRU(n_units, return_state = True)\n",
    "    # n_units indicates the number of units \n",
    "    # the state is the vector which encoder maps input to\n",
    "    # discard the output of encoder, only state vectors are we need\n",
    "    _, encoder_state = encoder(encoder_mask)\n",
    "    \n",
    "    encoder=Model(encoder_input, encoder_state)\n",
    "    \n",
    "    return encoder"
   ]
  },
  {
   "cell_type": "code",
   "execution_count": 4,
   "metadata": {},
   "outputs": [],
   "source": [
    "# define decoder. notice that this model is only used in training\n",
    "\n",
    "def create_decoder(inputdim, embeddingsize,inputlen, n_units):\n",
    "    # input of answers\n",
    "    decoder_input = Input((inputlen,))\n",
    "    # input of encoder state vectors   \n",
    "    initial_state = Input((n_units,))\n",
    "\n",
    "    # vectorize input answers\n",
    "    decoder_embed = Embedding(inputdim+1, embeddingsize)(decoder_input)\n",
    "    decoder_mask = Masking()(decoder_embed)\n",
    "    decoder = GRU(n_units, return_sequences = True, return_state = True)\n",
    "    # the state we dont need in training model\n",
    "    decoder_output,_ = decoder(decoder_embed,initial_state = initial_state)\n",
    "\n",
    "    decoder_dense = Dense(inputdim, activation = 'softmax')\n",
    "    decoder_output_ = decoder_dense(decoder_output)\n",
    "    \n",
    "    decoder=Model([decoder_input,initial_state],decoder_output_)\n",
    "    \n",
    "    return decoder"
   ]
  },
  {
   "cell_type": "code",
   "execution_count": 5,
   "metadata": {},
   "outputs": [],
   "source": [
    "# define hyperparameters\n",
    "\n",
    "BatchSize = 32 # we choose a small size because of the oom issue\n",
    "N_Unit = 256\n",
    "EmbeddingSize = 128\n",
    "VocabSize = 2500 \n",
    "# theoretically, vocabulary size should be len(question_corpus.word_index)+1. \n",
    "# however, seems like the 'num_words' didnt filter the tokenizer. so we assign the number manually\n",
    "QuestionLen = npzfile['arr_0'].shape[1]\n",
    "AnswerLen = npzfile['arr_1'].shape[1]"
   ]
  },
  {
   "cell_type": "code",
   "execution_count": 6,
   "metadata": {},
   "outputs": [],
   "source": [
    "encoder=create_encoder(VocabSize,EmbeddingSize,QuestionLen,N_Unit)"
   ]
  },
  {
   "cell_type": "code",
   "execution_count": 7,
   "metadata": {},
   "outputs": [
    {
     "name": "stdout",
     "output_type": "stream",
     "text": [
      "Model: \"model\"\n",
      "_________________________________________________________________\n",
      "Layer (type)                 Output Shape              Param #   \n",
      "=================================================================\n",
      "input_1 (InputLayer)         [(None, 8)]               0         \n",
      "_________________________________________________________________\n",
      "embedding (Embedding)        (None, 8, 128)            320128    \n",
      "_________________________________________________________________\n",
      "masking (Masking)            (None, 8, 128)            0         \n",
      "_________________________________________________________________\n",
      "gru (GRU)                    [(None, 256), (None, 256) 296448    \n",
      "=================================================================\n",
      "Total params: 616,576\n",
      "Trainable params: 616,576\n",
      "Non-trainable params: 0\n",
      "_________________________________________________________________\n"
     ]
    }
   ],
   "source": [
    "encoder.summary()"
   ]
  },
  {
   "cell_type": "code",
   "execution_count": 8,
   "metadata": {},
   "outputs": [],
   "source": [
    "decoder=create_decoder(VocabSize,EmbeddingSize,AnswerLen,N_Unit)"
   ]
  },
  {
   "cell_type": "code",
   "execution_count": 9,
   "metadata": {},
   "outputs": [
    {
     "name": "stdout",
     "output_type": "stream",
     "text": [
      "Model: \"model_1\"\n",
      "__________________________________________________________________________________________________\n",
      "Layer (type)                    Output Shape         Param #     Connected to                     \n",
      "==================================================================================================\n",
      "input_2 (InputLayer)            [(None, 8)]          0                                            \n",
      "__________________________________________________________________________________________________\n",
      "embedding_1 (Embedding)         (None, 8, 128)       320128      input_2[0][0]                    \n",
      "__________________________________________________________________________________________________\n",
      "input_3 (InputLayer)            [(None, 256)]        0                                            \n",
      "__________________________________________________________________________________________________\n",
      "gru_1 (GRU)                     [(None, 8, 256), (No 296448      embedding_1[0][0]                \n",
      "                                                                 input_3[0][0]                    \n",
      "__________________________________________________________________________________________________\n",
      "dense (Dense)                   (None, 8, 2500)      642500      gru_1[0][0]                      \n",
      "==================================================================================================\n",
      "Total params: 1,259,076\n",
      "Trainable params: 1,259,076\n",
      "Non-trainable params: 0\n",
      "__________________________________________________________________________________________________\n"
     ]
    }
   ],
   "source": [
    "decoder.summary()"
   ]
  },
  {
   "cell_type": "code",
   "execution_count": 11,
   "metadata": {},
   "outputs": [],
   "source": [
    "# define the optimizer and loss function\n",
    "optimizer = tf.keras.optimizers.Adam(1e-3)\n",
    "def loss_function(real, pred): \n",
    "    loss = tf.keras.losses.categorical_crossentropy(real,pred)\n",
    "    return tf.reduce_mean(loss)"
   ]
  },
  {
   "cell_type": "code",
   "execution_count": 12,
   "metadata": {},
   "outputs": [],
   "source": [
    "# define the training step\n",
    "\n",
    "@tf.function\n",
    "def train_step(enc_inp,dec_inp,targ):\n",
    "    loss=0\n",
    "\n",
    "    with tf.GradientTape() as tape:\n",
    "        encoder_state=encoder(enc_inp)\n",
    "        initial_state=encoder_state\n",
    "        prediction=decoder([dec_inp,initial_state])\n",
    "        loss=loss_function(targ,prediction)\n",
    "\n",
    "    variables = encoder.trainable_variables + decoder.trainable_variables\n",
    "    gradients = tape.gradient(loss, variables)\n",
    "    optimizer.apply_gradients(zip(gradients, variables))\n",
    "    \n",
    "    return loss"
   ]
  },
  {
   "cell_type": "code",
   "execution_count": 13,
   "metadata": {},
   "outputs": [],
   "source": [
    "# define the validation loss\n",
    "\n",
    "def validation_loss(enc_inp,dec_inp,targ):\n",
    "    loss=0\n",
    "    encoder_state=encoder(enc_inp)\n",
    "    initial_state=encoder_state\n",
    "    prediction=decoder([dec_inp,initial_state])\n",
    "    loss=loss_function(targ,prediction)\n",
    "    \n",
    "    return loss"
   ]
  },
  {
   "cell_type": "code",
   "execution_count": 14,
   "metadata": {},
   "outputs": [],
   "source": [
    "# define the parameter to split data\n",
    "train_valid_split = int(len(npzfile['arr_0'])*0.9)"
   ]
  },
  {
   "cell_type": "code",
   "execution_count": 15,
   "metadata": {},
   "outputs": [
    {
     "name": "stdout",
     "output_type": "stream",
     "text": [
      "47074\n"
     ]
    }
   ],
   "source": [
    "print(train_valid_split)"
   ]
  },
  {
   "cell_type": "code",
   "execution_count": 16,
   "metadata": {},
   "outputs": [],
   "source": [
    "# get the training data\n",
    "inputq=npzfile['arr_0'][:train_valid_split]\n",
    "inputa=npzfile['arr_1'][:train_valid_split] \n",
    "targa=np.zeros_like(inputa) # create target data to do teacher forcing training\n",
    "targa[:,0:-1]=inputa[:,1:]  # the target is same as the input answers but 1 timestep shifted to the left"
   ]
  },
  {
   "cell_type": "code",
   "execution_count": 17,
   "metadata": {},
   "outputs": [],
   "source": [
    "# get the validation data\n",
    "validq=npzfile['arr_0'][train_valid_split:]\n",
    "valida=npzfile['arr_1'][train_valid_split:]\n",
    "validt=np.zeros_like(valida)\n",
    "validt[:,0:-1]=valida[:,1:]"
   ]
  },
  {
   "cell_type": "code",
   "execution_count": 18,
   "metadata": {},
   "outputs": [],
   "source": [
    "# use onehot encoding to vectorize the target data\n",
    "def onehotencoding(matrix,dim):\n",
    "    onehot=np.zeros((matrix.shape[0],matrix.shape[1],dim))\n",
    "    for i,sequence in enumerate(matrix):\n",
    "        for j,index in enumerate(sequence):\n",
    "            if index>0:\n",
    "                onehot[i][j][index-1]=1 # the index start from 1 so we minus 1\n",
    "    return onehot"
   ]
  },
  {
   "cell_type": "code",
   "execution_count": 19,
   "metadata": {},
   "outputs": [],
   "source": [
    "# create tensorflow dataset pipeline for faster processing\n",
    "# training set\n",
    "BufferSize = len(inputq)\n",
    "dataset_train = tf.data.Dataset.from_tensor_slices((inputq,inputa,targa)).shuffle(BufferSize)\n",
    "dataset_train = dataset_train.batch(BatchSize, drop_remainder=True)\n",
    "# validation set\n",
    "BufferSize1 = len(validq)\n",
    "dataset_valid = tf.data.Dataset.from_tensor_slices((validq,valida,validt)).shuffle(BufferSize1)\n",
    "dataset_valid = dataset_valid.batch(BatchSize, drop_remainder=True)"
   ]
  },
  {
   "cell_type": "code",
   "execution_count": 20,
   "metadata": {},
   "outputs": [
    {
     "name": "stdout",
     "output_type": "stream",
     "text": [
      "Epoch 1 Loss 2.214 Valid_Loss 2.043\n",
      "Time taken for 1 epoch 120.11032390594482 sec\n",
      "\n",
      "Epoch 2 Loss 1.978 Valid_Loss 1.966\n",
      "Time taken for 1 epoch 115.74907350540161 sec\n",
      "\n",
      "Epoch 3 Loss 1.871 Valid_Loss 1.938\n",
      "Time taken for 1 epoch 114.45298385620117 sec\n",
      "\n",
      "Epoch 4 Loss 1.781 Valid_Loss 1.928\n",
      "Time taken for 1 epoch 115.65048241615295 sec\n",
      "\n",
      "Epoch 5 Loss 1.696 Valid_Loss 1.939\n",
      "Time taken for 1 epoch 113.769850730896 sec\n",
      "\n",
      "Overall time taken 9.662211906909942 min\n",
      "\n"
     ]
    }
   ],
   "source": [
    "# train the model\n",
    "\n",
    "Epochs = 5\n",
    "trainstep_epoch = len(inputq)//BatchSize\n",
    "validstep_epoch = len(validq)//BatchSize\n",
    "overalltime=0\n",
    "\n",
    "for epoch in range(Epochs):\n",
    "    start=time.time()\n",
    "    total_loss=0\n",
    "    valid_loss=0\n",
    "    \n",
    "    for (batch, (inputq,inputa,targa)) in enumerate(dataset_train.take(trainstep_epoch)):\n",
    "        targa_onehot=onehotencoding(targa,VocabSize)\n",
    "        batch_loss = train_step(inputq,inputa,targa_onehot)\n",
    "        total_loss += batch_loss\n",
    "    \n",
    "    for (batch, (validq,valida,validt)) in enumerate(dataset_valid.take(validstep_epoch)):\n",
    "        validt_onehot=onehotencoding(validt,VocabSize)\n",
    "        valid_batch_loss = validation_loss(validq,valida,validt_onehot)\n",
    "        valid_loss+=valid_batch_loss\n",
    "    print('Epoch {} Loss {:.3f} Valid_Loss {:.3f}'.format(epoch+1,total_loss/trainstep_epoch,valid_loss/validstep_epoch))\n",
    "    \n",
    "    stop=time.time()\n",
    "    timetaken=stop-start\n",
    "    print('Time taken for 1 epoch {} sec\\n'.format(timetaken))\n",
    "    \n",
    "    overalltime+=timetaken\n",
    "    \n",
    "print('Overall time taken {} min\\n'.format(overalltime/60))"
   ]
  },
  {
   "cell_type": "code",
   "execution_count": 21,
   "metadata": {},
   "outputs": [],
   "source": [
    "# save parameters after training\n",
    "encoder.save_weights('./trained_model/gru_enc_test.h5')\n",
    "decoder.save_weights('./trained_model/gru_dec_test.h5')"
   ]
  },
  {
   "cell_type": "code",
   "execution_count": null,
   "metadata": {},
   "outputs": [],
   "source": []
  }
 ],
 "metadata": {
  "kernelspec": {
   "display_name": "Python 3",
   "language": "python",
   "name": "python3"
  },
  "language_info": {
   "codemirror_mode": {
    "name": "ipython",
    "version": 3
   },
   "file_extension": ".py",
   "mimetype": "text/x-python",
   "name": "python",
   "nbconvert_exporter": "python",
   "pygments_lexer": "ipython3",
   "version": "3.5.3"
  }
 },
 "nbformat": 4,
 "nbformat_minor": 4
}
